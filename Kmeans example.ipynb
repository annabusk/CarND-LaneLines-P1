{
 "cells": [
  {
   "cell_type": "code",
   "execution_count": 1,
   "metadata": {
    "collapsed": true
   },
   "outputs": [],
   "source": [
    "import matplotlib.pyplot as plt\n",
    "import matplotlib.image as mpimg\n",
    "import numpy as np\n",
    "\n",
    "%matplotlib inline"
   ]
  },
  {
   "cell_type": "code",
   "execution_count": null,
   "metadata": {
    "collapsed": true
   },
   "outputs": [],
   "source": [
    "from sklearn.cluster import KMeans\n",
    "\n",
    "kmeans = KMeans(n_clusters=2, random_state=42)"
   ]
  },
  {
   "cell_type": "code",
   "execution_count": null,
   "metadata": {
    "collapsed": true
   },
   "outputs": [],
   "source": [
    "labels = kmeans.fit_predict(X)\n",
    "labels"
   ]
  },
  {
   "cell_type": "code",
   "execution_count": 3,
   "metadata": {
    "collapsed": false
   },
   "outputs": [
    {
     "data": {
      "text/plain": [
       "array([0, 1])"
      ]
     },
     "execution_count": 3,
     "metadata": {},
     "output_type": "execute_result"
    }
   ],
   "source": [
    "from sklearn.cluster import KMeans\n",
    "import numpy as np\n",
    "X = np.array([[1, 2], [1, 4], [1, 0],\n",
    "               [4, 2], [4, 4], [4, 0]])\n",
    "kmeans = KMeans(n_clusters=2, random_state=0).fit(X)\n",
    "kmeans.labels_\n",
    "#array([0, 0, 0, 1, 1, 1], dtype=int32)\n",
    "labels = kmeans.predict([[0, 0], [4, 4]])\n",
    "#array([0, 1], dtype=int32)\n",
    "labels"
   ]
  },
  {
   "cell_type": "code",
   "execution_count": 4,
   "metadata": {
    "collapsed": false
   },
   "outputs": [
    {
     "data": {
      "text/plain": [
       "array([0])"
      ]
     },
     "execution_count": 4,
     "metadata": {},
     "output_type": "execute_result"
    }
   ],
   "source": [
    "kmeans.predict([[1, 4]])"
   ]
  },
  {
   "cell_type": "code",
   "execution_count": null,
   "metadata": {
    "collapsed": true
   },
   "outputs": [],
   "source": [
    "INTECREPTS:  169.095922049 93.31621408 [257.17142857142846, 281.34782608695656, 278.00751879699249, 106.41935483870978, 71.0, 125.48837209302326, 256.0408163265306, 252.59999999999999, 85.999999999999972, 124.11111111111124, 155.28571428571436, 113.14285714285721, 275.66666666666669, 14.631578947368361, 103.02702702702705, 80.037037037037166, 115.85714285714289, 282.6764705882353, 144.19999999999996, 272.0, 277.5, 220.15789473684222, 220.45454545454547, 0.032258064516195041, 265.16216216216219, 18.476190476190563]\n",
    "LENGHTS:  [349.2005154635371, 74.027022093286988, 215.84485168750263, 66.648330811806531, 62.609903369994115, 89.067390216621931, 162.80049139974977, 84.905830188509441, 66.189122973491649, 51.623637996561229, 97.652444925869617, 61.032778078668514, 146.03081866510234, 46.097722286464439, 72.201108024738787, 58.591808301161009, 52.153619241621193, 109.63576058932597, 73.409808608931812, 50.0, 57.628118136895637, 91.049437120720299, 47.413078364518789, 68.425141578224014, 60.605280298007038, 45.177427992306072]"
   ]
  },
  {
   "cell_type": "code",
   "execution_count": 19,
   "metadata": {
    "collapsed": true
   },
   "outputs": [],
   "source": [
    "i = [257.17142857142846, 281.34782608695656, 278.00751879699249, 106.41935483870978, 71.0, 125.48837209302326, 256.0408163265306, 252.59999999999999, 85.999999999999972, 124.11111111111124, 155.28571428571436, 113.14285714285721, 275.66666666666669, 14.631578947368361, 103.02702702702705, 80.037037037037166, 115.85714285714289, 282.6764705882353, 144.19999999999996, 272.0, 277.5, 220.15789473684222, 220.45454545454547, 0.032258064516195041, 265.16216216216219, 18.476190476190563]\n",
    "l = [349.2005154635371, 74.027022093286988, 215.84485168750263, 66.648330811806531, 62.609903369994115, 89.067390216621931, 162.80049139974977, 84.905830188509441, 66.189122973491649, 51.623637996561229, 97.652444925869617, 61.032778078668514, 146.03081866510234, 46.097722286464439, 72.201108024738787, 58.591808301161009, 52.153619241621193, 109.63576058932597, 73.409808608931812, 50.0, 57.628118136895637, 91.049437120720299, 47.413078364518789, 68.425141578224014, 60.605280298007038, 45.177427992306072]"
   ]
  },
  {
   "cell_type": "code",
   "execution_count": 8,
   "metadata": {
    "collapsed": false
   },
   "outputs": [
    {
     "data": {
      "text/plain": [
       "26"
      ]
     },
     "execution_count": 8,
     "metadata": {},
     "output_type": "execute_result"
    }
   ],
   "source": [
    "len(l)"
   ]
  },
  {
   "cell_type": "code",
   "execution_count": 9,
   "metadata": {
    "collapsed": false
   },
   "outputs": [
    {
     "data": {
      "text/plain": [
       "<zip at 0x7ba0048>"
      ]
     },
     "execution_count": 9,
     "metadata": {},
     "output_type": "execute_result"
    }
   ],
   "source": [
    "zip(i,l)"
   ]
  },
  {
   "cell_type": "code",
   "execution_count": 23,
   "metadata": {
    "collapsed": false
   },
   "outputs": [
    {
     "data": {
      "text/plain": [
       "[[257.17142857142846, 349.2005154635371],\n",
       " [281.34782608695656, 74.02702209328699],\n",
       " [278.0075187969925, 215.84485168750263],\n",
       " [106.41935483870978, 66.64833081180653],\n",
       " [71.0, 62.609903369994115],\n",
       " [125.48837209302326, 89.06739021662193],\n",
       " [256.0408163265306, 162.80049139974977],\n",
       " [252.6, 84.90583018850944],\n",
       " [85.99999999999997, 66.18912297349165],\n",
       " [124.11111111111124, 51.62363799656123],\n",
       " [155.28571428571436, 97.65244492586962],\n",
       " [113.14285714285721, 61.032778078668514],\n",
       " [275.6666666666667, 146.03081866510234],\n",
       " [14.63157894736836, 46.09772228646444],\n",
       " [103.02702702702705, 72.20110802473879],\n",
       " [80.03703703703717, 58.59180830116101],\n",
       " [115.85714285714289, 52.15361924162119],\n",
       " [282.6764705882353, 109.63576058932597],\n",
       " [144.19999999999996, 73.40980860893181],\n",
       " [272.0, 50.0],\n",
       " [277.5, 57.62811813689564],\n",
       " [220.15789473684222, 91.0494371207203],\n",
       " [220.45454545454547, 47.41307836451879],\n",
       " [0.03225806451619504, 68.42514157822401],\n",
       " [265.1621621621622, 60.60528029800704],\n",
       " [18.476190476190563, 45.17742799230607]]"
      ]
     },
     "execution_count": 23,
     "metadata": {},
     "output_type": "execute_result"
    }
   ],
   "source": [
    "data = [[a,b] for (a,b)  in zip(i,l)]\n",
    "data"
   ]
  },
  {
   "cell_type": "code",
   "execution_count": 24,
   "metadata": {
    "collapsed": true
   },
   "outputs": [],
   "source": [
    "kmeans = KMeans(n_clusters=2, random_state=0).fit(data)"
   ]
  },
  {
   "cell_type": "code",
   "execution_count": 25,
   "metadata": {
    "collapsed": false
   },
   "outputs": [
    {
     "data": {
      "text/plain": [
       "array([0, 0, 0, 1, 1, 1, 0, 0, 1, 1, 1, 1, 0, 1, 1, 1, 1, 0, 1, 0, 0, 0, 0,\n",
       "       1, 0, 1])"
      ]
     },
     "execution_count": 25,
     "metadata": {},
     "output_type": "execute_result"
    }
   ],
   "source": [
    "kmeans.labels_"
   ]
  },
  {
   "cell_type": "code",
   "execution_count": 26,
   "metadata": {
    "collapsed": true
   },
   "outputs": [],
   "source": [
    "labels = kmeans.fit_predict(data)"
   ]
  },
  {
   "cell_type": "code",
   "execution_count": 32,
   "metadata": {
    "collapsed": false
   },
   "outputs": [
    {
     "data": {
      "text/plain": [
       "<matplotlib.collections.PathCollection at 0x94cb198>"
      ]
     },
     "execution_count": 32,
     "metadata": {},
     "output_type": "execute_result"
    },
    {
     "data": {
      "image/png": "[encoded data removed]",
      "text/plain": [
       "<matplotlib.figure.Figure at 0x8301240>"
      ]
     },
     "metadata": {},
     "output_type": "display_data"
    }
   ],
   "source": [
    "plt.scatter(i,l, c= labels)"
   ]
  },
  {
   "cell_type": "code",
   "execution_count": 44,
   "metadata": {
    "collapsed": false
   },
   "outputs": [
    {
     "name": "stdout",
     "output_type": "stream",
     "text": [
      "0 349.2005154635371 257.17142857142846\n",
      "0\n",
      "[0 0 0 1 1 1 0 0 1 1 1 1 0 1 1 1 1 0 1 0 0 0 0 1 0 1]\n",
      "(array([ 0,  1,  2,  6,  7, 12, 17, 19, 20, 21, 22, 24], dtype=int64),)\n",
      "1449.14120401 910.880244406\n"
     ]
    },
    {
     "data": {
      "text/plain": [
       "<matplotlib.collections.PathCollection at 0x9604f98>"
      ]
     },
     "execution_count": 44,
     "metadata": {},
     "output_type": "execute_result"
    },
    {
     "data": {
      "image/png": "[encoded data removed]",
      "text/plain": [
       "<matplotlib.figure.Figure at 0x95c59e8>"
      ]
     },
     "metadata": {},
     "output_type": "display_data"
    }
   ],
   "source": [
    "max_d_index = l.index(max(l))\n",
    "max_d = l[max_d_index]\n",
    "i_max_d = i[max_d_index]\n",
    "print(max_d_index,max_d,i_max_d)\n",
    "print(labels[max_d_index])\n",
    "index = np.where(labels == 0)\n",
    "print(labels)\n",
    "print(index)\n",
    "\n",
    "\n",
    "#get class with mmaximum distances:\n",
    "index_0 = np.where(labels == 0)\n",
    "index_1 = np.where(labels == 1)\n",
    "c0 = np.sum(np.array(l)[index_0])\n",
    "c1 = np.sum(np.array(l)[index_1])\n",
    "print(c0,c1)\n",
    "\n",
    "plt.scatter(np.array(i)[index],np.array(l)[index], c= np.array(labels)[index])"
   ]
  },
  {
   "cell_type": "code",
   "execution_count": null,
   "metadata": {
    "collapsed": true
   },
   "outputs": [],
   "source": [
    "#IMPORTANT NO PERDRE!!\n",
    "    m_left_list = []\n",
    "    x_intercept_left = []\n",
    "    m_right_list = []\n",
    "    x_intercept_right = []\n",
    "    \n",
    "    imshape = img.shape\n",
    "    ysize = imshape[0]\n",
    "    xsize = imshape[1]\n",
    "    y_top = ysize / 2 + 60\n",
    "\n",
    "    for line in lines:\n",
    "        for x1,y1,x2,y2 in line: \n",
    "            \n",
    "            if x2!=x1:\n",
    "                m = (y2-y1) / (x2-x1)             \n",
    "                if (np.absolute(m) >= 0.50) & (np.absolute(m) <= 0.9):\n",
    "\n",
    "                    if m>0: #Right lane line\n",
    "                        b = y2 - m*x2\n",
    "                        x_intercept = (ysize - b) / m\n",
    "                        if(x_intercept>=0) & (x_intercept<=xsize):                     \n",
    "                            m_right_list.append(m)\n",
    "                            x_intercept_right.append(x_intercept)\n",
    "\n",
    "                    elif m<0: # left lane line\n",
    "                        #if m >= -0.50:\n",
    "                        #    print(m)\n",
    "                        b = y2 - m*x2\n",
    "                        x_intercept = (ysize - b) / m\n",
    "                        if(x_intercept>=0) & (x_intercept<=xsize):\n",
    "                            m_left_list.append(m)                            \n",
    "                            x_intercept_left.append(x_intercept)                \n",
    "    \n",
    "    #calculate right line:\n",
    "    if (len(m_right_list)>0) & (len(x_intercept_right)>0):\n",
    "        m = np.mean(m_right_list)\n",
    "        x_intercept = np.mean(x_intercept_right)\n",
    "        b = ysize - m*x_intercept\n",
    "        cv2.line(img, (int(x_intercept), int(ysize)), (int((y_top - b)/m), int(y_top)), color, thickness)\n",
    "    \n",
    "    #calculate left line:\n",
    "    if (len(m_left_list)>0) & (len(x_intercept_left)>0):\n",
    "        m = np.mean(m_left_list)\n",
    "        x_intercept = np.mean(x_intercept_left)\n",
    "        b = ysize - m*x_intercept\n",
    "        #print('List of slopes: ', m_left_list)\n",
    "        #print('List of x interescts: ' ,x_intercept_left)\n",
    "        print('Average SLOPE: ', m)\n",
    "        print('Average :', x_intercept)\n",
    "        cv2.line(img, (int(x_intercept), int(ysize)), (int((y_top - b)/m), int(y_top)), color, thickness)\n"
   ]
  },
  {
   "cell_type": "code",
   "execution_count": null,
   "metadata": {
    "collapsed": true
   },
   "outputs": [],
   "source": [
    "# version with k means:\n",
    "    m_left_list = []\n",
    "    x_intercept_left = []\n",
    "    lengths_left = []\n",
    "    \n",
    "    m_right_list = []\n",
    "    x_intercept_right = []\n",
    "    lengths_right = []\n",
    "    \n",
    "    imshape = img.shape\n",
    "    ysize = imshape[0]\n",
    "    xsize = imshape[1]\n",
    "    y_top = ysize / 2 + 70\n",
    "\n",
    "    for line in lines:\n",
    "        for x1,y1,x2,y2 in line: \n",
    "            \n",
    "            if x2!=x1: # Avoiding dividing by zero\n",
    "                m = (y2-y1) / (x2-x1)             \n",
    "                # Applying some slope selection, in order to avoid horizontal lines and too much vertical ones\n",
    "                if (np.absolute(m) >= 0.45) & (np.absolute(m) <= 0.9):\n",
    "                    # calculating the length of the line:\n",
    "                    d = np.sqrt((y2-y1)**2+(x2-x1)**2)\n",
    "                    if m>0 : #Right lane line\n",
    "                        b = y2 - m*x2\n",
    "                        x_intercept = (ysize - b) / m \n",
    "                        #here we discard lines that have soem intersetc out of our x axis size:\n",
    "                        if(x_intercept>=0) & (x_intercept<=xsize):\n",
    "                            m_right_list.append(m)\n",
    "                            lengths_right.append(d)\n",
    "                            x_intercept_right.append(x_intercept)\n",
    "\n",
    "\n",
    "                    elif m<0: # left lane line\n",
    "                        b = y2 - m*x2\n",
    "                        x_intercept = (ysize - b) / m\n",
    "                        if(x_intercept>=0) & (x_intercept<=xsize):\n",
    "                            m_left_list.append(m)\n",
    "                            lengths_left.append(d)\n",
    "                            x_intercept_left.append(x_intercept)                \n",
    "    \n",
    "    #calculate right line:\n",
    "    if (len(m_right_list)>0) & (len(x_intercept_right)>0):\n",
    "        # here we calculate the total mean for slopes and interpepts for right lane\n",
    "        m = np.mean(m_right_list)\n",
    "        x_intercept_avg = np.mean(x_intercept_right)\n",
    "        \n",
    "        # if there are more than 2 lines, we try to choose right ones with a clustering technique\n",
    "        if len(x_intercept_right)>2:\n",
    "            index_filtering = kmeans_clustering(lengths_right, x_intercept_right)\n",
    "            # updating m and x_intercept_avg with selected lines:\n",
    "            m = np.mean(np.array(m_right_list)[index_filtering])\n",
    "            x_intercept_avg = np.mean(np.array(x_intercept_right)[index_filtering])\n",
    "        #calculating final line to draw for right line:\n",
    "        b = ysize - m*x_intercept_avg\n",
    "        cv2.line(img, (int(x_intercept_avg), int(ysize)), (int((y_top - b)/m), int(y_top)), color, thickness)\n",
    "    \n",
    "    #calculate left line:\n",
    "    if (len(m_left_list)>0) & (len(x_intercept_left)>0):\n",
    "        m = np.mean(m_left_list)\n",
    "        x_intercept_avg = np.mean(x_intercept_left)\n",
    "\n",
    "        if len(x_intercept_left)>2:\n",
    "            index_filtering = kmeans_clustering(lengths_left, x_intercept_left)\n",
    "            m = np.mean(np.array(m_left_list)[index_filtering])\n",
    "            x_intercept_avg = np.mean(np.array(x_intercept_left)[index_filtering])\n",
    "        \n",
    "        b = ysize - m*x_intercept_avg\n",
    "        cv2.line(img, (int(x_intercept_avg), int(ysize)), (int((y_top - b)/m), int(y_top)), color, thickness)"
   ]
  }
 ],
 "metadata": {
  "kernelspec": {
   "display_name": "Python 3",
   "language": "python",
   "name": "python3"
  },
  "language_info": {
   "codemirror_mode": {
    "name": "ipython",
    "version": 3
   },
   "file_extension": ".py",
   "mimetype": "text/x-python",
   "name": "python",
   "nbconvert_exporter": "python",
   "pygments_lexer": "ipython3",
   "version": "3.4.3"
  }
 },
 "nbformat": 4,
 "nbformat_minor": 0
}
